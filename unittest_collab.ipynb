{
  "cells": [
    {
      "cell_type": "code",
      "id": "pzZfeX36WJfikNvA5sos4QWi",
      "metadata": {
        "tags": [],
        "id": "pzZfeX36WJfikNvA5sos4QWi",
        "executionInfo": {
          "status": "ok",
          "timestamp": 1729831255812,
          "user_tz": -330,
          "elapsed": 4,
          "user": {
            "displayName": "",
            "userId": ""
          }
        }
      },
      "source": [
        "from IPython.display import clear_output"
      ],
      "execution_count": 1,
      "outputs": []
    },
    {
      "cell_type": "code",
      "source": [
        "!pip install --quiet ipytest"
      ],
      "metadata": {
        "id": "n_9g4HpG-jVT",
        "executionInfo": {
          "status": "ok",
          "timestamp": 1729831266915,
          "user_tz": -330,
          "elapsed": 5539,
          "user": {
            "displayName": "",
            "userId": ""
          }
        }
      },
      "id": "n_9g4HpG-jVT",
      "execution_count": 2,
      "outputs": []
    },
    {
      "cell_type": "code",
      "source": [
        "project_id = !gcloud config get project\n",
        "project_id = project_id[0]"
      ],
      "metadata": {
        "id": "AMSldKTJ-kzo",
        "executionInfo": {
          "status": "ok",
          "timestamp": 1729831269464,
          "user_tz": -330,
          "elapsed": 1792,
          "user": {
            "displayName": "",
            "userId": ""
          }
        }
      },
      "id": "AMSldKTJ-kzo",
      "execution_count": 3,
      "outputs": []
    },
    {
      "cell_type": "code",
      "source": [
        "import vertexai\n",
        "from vertexai.generative_models import GenerativeModel, GenerationConfig\n",
        "from vertexai.language_models import TextGenerationModel\n",
        "\n",
        "import pytest\n",
        "import ipytest\n",
        "ipytest.autoconfig()"
      ],
      "metadata": {
        "id": "RlQNiJSW-mXO",
        "executionInfo": {
          "status": "ok",
          "timestamp": 1729831278503,
          "user_tz": -330,
          "elapsed": 5273,
          "user": {
            "displayName": "",
            "userId": ""
          }
        }
      },
      "id": "RlQNiJSW-mXO",
      "execution_count": 4,
      "outputs": []
    },
    {
      "cell_type": "code",
      "source": [
        "def test_addition():\n",
        "  assert 2+2 == 4"
      ],
      "metadata": {
        "id": "HYyl0om7-n9D",
        "executionInfo": {
          "status": "ok",
          "timestamp": 1729831278503,
          "user_tz": -330,
          "elapsed": 2,
          "user": {
            "displayName": "",
            "userId": ""
          }
        }
      },
      "id": "HYyl0om7-n9D",
      "execution_count": 5,
      "outputs": []
    },
    {
      "cell_type": "code",
      "source": [
        "ipytest.run()"
      ],
      "metadata": {
        "colab": {
          "base_uri": "https://localhost:8080/"
        },
        "id": "oTRR7N-B-pLz",
        "executionInfo": {
          "status": "ok",
          "timestamp": 1729831284068,
          "user_tz": -330,
          "elapsed": 722,
          "user": {
            "displayName": "",
            "userId": ""
          }
        },
        "outputId": "c5873d43-1b0d-4658-d360-856fc4aee88d"
      },
      "id": "oTRR7N-B-pLz",
      "execution_count": 6,
      "outputs": [
        {
          "output_type": "stream",
          "name": "stdout",
          "text": [
            "\u001b[32m.\u001b[0m\u001b[32m                                                                                            [100%]\u001b[0m\n",
            "\u001b[32m\u001b[32m\u001b[1m1 passed\u001b[0m\u001b[32m in 0.02s\u001b[0m\u001b[0m\n"
          ]
        },
        {
          "output_type": "execute_result",
          "data": {
            "text/plain": [
              "<ExitCode.OK: 0>"
            ]
          },
          "metadata": {},
          "execution_count": 6
        }
      ]
    },
    {
      "cell_type": "code",
      "source": [
        "%%writefile prompt_template.txt\n",
        "\n",
        "Respond to the user's query.\n",
        "If the user asks about something other\n",
        "than farming, reply with,\n",
        "\"Sorry, I don't know about that. Ask me something about farming instead.\"\n",
        "\n",
        "Context: {context}\n",
        "\n",
        "User Query: {query}\n",
        "Response:"
      ],
      "metadata": {
        "colab": {
          "base_uri": "https://localhost:8080/"
        },
        "id": "udN3Ugqc-qYf",
        "executionInfo": {
          "status": "ok",
          "timestamp": 1729831293194,
          "user_tz": -330,
          "elapsed": 4,
          "user": {
            "displayName": "",
            "userId": ""
          }
        },
        "outputId": "9c591826-7ce1-499a-b9eb-a0c396371c35"
      },
      "id": "udN3Ugqc-qYf",
      "execution_count": 7,
      "outputs": [
        {
          "output_type": "stream",
          "name": "stdout",
          "text": [
            "Writing prompt_template.txt\n"
          ]
        }
      ]
    },
    {
      "cell_type": "code",
      "source": [
        "@pytest.fixture\n",
        "def prompt_template():\n",
        "  with open(\"prompt_template.txt\", \"r\") as f:\n",
        "    return f.read()"
      ],
      "metadata": {
        "id": "Srzmj2_e-swT",
        "executionInfo": {
          "status": "ok",
          "timestamp": 1729831337758,
          "user_tz": -330,
          "elapsed": 2,
          "user": {
            "displayName": "",
            "userId": ""
          }
        }
      },
      "id": "Srzmj2_e-swT",
      "execution_count": 8,
      "outputs": []
    },
    {
      "cell_type": "code",
      "source": [
        "vertexai.init(project=project_id, location=\"us-central1\")\n",
        "\n",
        "gen_config = GenerationConfig(\n",
        "    temperature=0,\n",
        "    top_p=0.6,\n",
        "    candidate_count=1,\n",
        "    max_output_tokens=4096,\n",
        ")\n",
        "gen_model = GenerativeModel(\"gemini-1.5-flash-001\", generation_config=gen_config)\n",
        "\n",
        "eval_config = {\n",
        "        \"temperature\": 0,\n",
        "        \"max_output_tokens\": 1024,\n",
        "        \"top_p\": 0.6,\n",
        "        \"top_k\": 40,\n",
        "    }\n",
        "eval_model = GenerativeModel(\"gemini-1.5-pro-001\", generation_config=eval_config)"
      ],
      "metadata": {
        "id": "hSh-_7O8-3cW",
        "executionInfo": {
          "status": "ok",
          "timestamp": 1729831351530,
          "user_tz": -330,
          "elapsed": 3,
          "user": {
            "displayName": "",
            "userId": ""
          }
        }
      },
      "id": "hSh-_7O8-3cW",
      "execution_count": 9,
      "outputs": []
    },
    {
      "cell_type": "code",
      "source": [
        "def test_basic_response(prompt_template):\n",
        "\n",
        "  context = (\"MightyGo unveiled its 2025 model year Arcturus \"\n",
        "             + \"tractor line at the Salt of the Earth Farm Expo in \"\n",
        "             + \"Málaga in late June.\")\n",
        "\n",
        "  query = \"What is the name of the new tractor model?\"\n",
        "\n",
        "  evaluation_prompt = \"\"\"\n",
        "    Has the query been answered by the provided_response?\n",
        "    The new tractor model is the Arcturus.\n",
        "    Respond with only one word: yes or no\n",
        "\n",
        "    query: {query}\n",
        "    provided_response: {provided_response}\n",
        "    evaluation: \"\"\"\n",
        "\n",
        "  prompt = prompt_template.format(context=context, query=query)\n",
        "\n",
        "  response = gen_model.generate_content(prompt)\n",
        "  print(response.text)\n",
        "  ep = evaluation_prompt.format(query=query, provided_response=response.text)\n",
        "  evaluation = eval_model.generate_content(ep)\n",
        "\n",
        "  assert evaluation.text.strip() == \"yes\""
      ],
      "metadata": {
        "id": "dXGoYaae-7Fv",
        "executionInfo": {
          "status": "ok",
          "timestamp": 1729831360029,
          "user_tz": -330,
          "elapsed": 2,
          "user": {
            "displayName": "",
            "userId": ""
          }
        }
      },
      "id": "dXGoYaae-7Fv",
      "execution_count": 10,
      "outputs": []
    },
    {
      "cell_type": "code",
      "source": [
        "ipytest.run('-rP')"
      ],
      "metadata": {
        "colab": {
          "base_uri": "https://localhost:8080/"
        },
        "id": "RS8rMSek-86i",
        "executionInfo": {
          "status": "ok",
          "timestamp": 1729831371329,
          "user_tz": -330,
          "elapsed": 760,
          "user": {
            "displayName": "",
            "userId": ""
          }
        },
        "outputId": "1f5bb7a3-fe6c-4335-9219-492061ffeeff"
      },
      "id": "RS8rMSek-86i",
      "execution_count": 11,
      "outputs": [
        {
          "output_type": "stream",
          "name": "stdout",
          "text": [
            "\u001b[32m.\u001b[0m\u001b[32m.\u001b[0m\u001b[32m                                                                                           [100%]\u001b[0m\n",
            "============================================== PASSES ==============================================\n",
            "\u001b[32m\u001b[1m_______________________________________ test_basic_response ________________________________________\u001b[0m\n",
            "--------------------------------------- Captured stdout call ---------------------------------------\n",
            "The new tractor model is called the **Arcturus**. \n",
            "\n",
            "\u001b[32m\u001b[32m\u001b[1m2 passed\u001b[0m\u001b[32m in 0.95s\u001b[0m\u001b[0m\n"
          ]
        },
        {
          "output_type": "execute_result",
          "data": {
            "text/plain": [
              "<ExitCode.OK: 0>"
            ]
          },
          "metadata": {},
          "execution_count": 11
        }
      ]
    },
    {
      "cell_type": "code",
      "source": [
        "expo_prompt = \"Please write one paragraph about Frank Sinatra.\"\n",
        "response = gen_model.generate_content(expo_prompt)\n",
        "print(response.text)"
      ],
      "metadata": {
        "colab": {
          "base_uri": "https://localhost:8080/"
        },
        "id": "ICT03PEw-_ed",
        "executionInfo": {
          "status": "ok",
          "timestamp": 1729831381759,
          "user_tz": -330,
          "elapsed": 925,
          "user": {
            "displayName": "",
            "userId": ""
          }
        },
        "outputId": "b54ab603-8c02-447c-c498-918fda61b507"
      },
      "id": "ICT03PEw-_ed",
      "execution_count": 12,
      "outputs": [
        {
          "output_type": "stream",
          "name": "stdout",
          "text": [
            "Frank Sinatra, the \"Chairman of the Board,\" was a legendary American singer and actor who captivated audiences with his smooth baritone voice and charismatic stage presence. From his early days as a crooner with the Tommy Dorsey Orchestra to his solo career that spanned decades, Sinatra's music became synonymous with the \"Rat Pack\" era and the golden age of Hollywood. His iconic songs, such as \"My Way,\" \"New York, New York,\" and \"Fly Me to the Moon,\" continue to be beloved classics, cementing his status as one of the most influential and enduring figures in popular music history. \n",
            "\n"
          ]
        }
      ]
    },
    {
      "cell_type": "code",
      "source": [
        "def test_staying_on_topic(prompt_template):\n",
        "  evaluation_prompt = \"\"\"\n",
        "    Does the response decline to discuss a non-farming related topic\n",
        "    and encourage the user to ask about farming instead?\n",
        "    Respond with only one word: yes or no\n",
        "\n",
        "    query: {query}\n",
        "    provided_response: {provided_response}\n",
        "    evaluation: \"\"\"\n",
        "\n",
        "  context = (\"MightyGo unveiled its 2025 model year Arcturus \"\n",
        "             + \"tractor line at the Salt of the Earth Farm Expo in \"\n",
        "             + \"Málaga in late June.\")\n",
        "\n",
        "  query = \"Please write one paragraph about Frank Sinatra.\"\n",
        "\n",
        "  prompt = prompt_template.format(context=context, query=query)\n",
        "\n",
        "  response = gen_model.generate_content(prompt)\n",
        "  print(response.text)\n",
        "  ep = evaluation_prompt.format(query=query, provided_response=response.text)\n",
        "  evaluation = eval_model.generate_content(ep)\n",
        "\n",
        "  assert evaluation.text.strip() == \"yes\""
      ],
      "metadata": {
        "id": "D7iUcM_C_CGl",
        "executionInfo": {
          "status": "ok",
          "timestamp": 1729831389144,
          "user_tz": -330,
          "elapsed": 2,
          "user": {
            "displayName": "",
            "userId": ""
          }
        }
      },
      "id": "D7iUcM_C_CGl",
      "execution_count": 13,
      "outputs": []
    },
    {
      "cell_type": "code",
      "source": [
        "ipytest.run('-rP')"
      ],
      "metadata": {
        "colab": {
          "base_uri": "https://localhost:8080/"
        },
        "id": "5v5SguL5_D9h",
        "executionInfo": {
          "status": "ok",
          "timestamp": 1729831400852,
          "user_tz": -330,
          "elapsed": 1470,
          "user": {
            "displayName": "",
            "userId": ""
          }
        },
        "outputId": "22206cb5-fe0e-483b-f79a-83a6e64f4529"
      },
      "id": "5v5SguL5_D9h",
      "execution_count": 14,
      "outputs": [
        {
          "output_type": "stream",
          "name": "stdout",
          "text": [
            "\u001b[32m.\u001b[0m\u001b[32m.\u001b[0m\u001b[32m.\u001b[0m\u001b[32m                                                                                          [100%]\u001b[0m\n",
            "============================================== PASSES ==============================================\n",
            "\u001b[32m\u001b[1m_______________________________________ test_basic_response ________________________________________\u001b[0m\n",
            "--------------------------------------- Captured stdout call ---------------------------------------\n",
            "The new tractor model is called the **Arcturus**. \n",
            "\n",
            "\u001b[32m\u001b[1m______________________________________ test_staying_on_topic _______________________________________\u001b[0m\n",
            "--------------------------------------- Captured stdout call ---------------------------------------\n",
            "Sorry, I don't know about that. Ask me something about farming instead. \n",
            "\n",
            "\u001b[32m\u001b[32m\u001b[1m3 passed\u001b[0m\u001b[32m in 1.50s\u001b[0m\u001b[0m\n"
          ]
        },
        {
          "output_type": "execute_result",
          "data": {
            "text/plain": [
              "<ExitCode.OK: 0>"
            ]
          },
          "metadata": {},
          "execution_count": 14
        }
      ]
    },
    {
      "cell_type": "code",
      "source": [
        "expo_prompt = \"What cities have hosted farm expos?\"\n",
        "response = gen_model.generate_content(expo_prompt)\n",
        "print(response.text)"
      ],
      "metadata": {
        "colab": {
          "base_uri": "https://localhost:8080/"
        },
        "id": "YPaFM3PC_GcC",
        "executionInfo": {
          "status": "ok",
          "timestamp": 1729831410668,
          "user_tz": -330,
          "elapsed": 2986,
          "user": {
            "displayName": "",
            "userId": ""
          }
        },
        "outputId": "cd131c3f-ea2a-4137-9349-123aa29bb37d"
      },
      "id": "YPaFM3PC_GcC",
      "execution_count": 15,
      "outputs": [
        {
          "output_type": "stream",
          "name": "stdout",
          "text": [
            "It's impossible to list every city that has ever hosted a farm expo, as there are countless events happening all over the world. However, here are some of the most prominent and well-known cities that regularly host major farm expos:\n",
            "\n",
            "**North America:**\n",
            "\n",
            "* **Chicago, Illinois:** Home to the **Farm Progress Show**, one of the largest agricultural events in the world.\n",
            "* **Louisville, Kentucky:** Hosts the **National Farm Machinery Show**, a major event showcasing the latest in farm equipment.\n",
            "* **Des Moines, Iowa:** Hosts the **Iowa State Fair**, a large agricultural fair with a strong focus on farming.\n",
            "* **Indianapolis, Indiana:** Hosts the **National FFA Convention**, a major event for Future Farmers of America.\n",
            "* **Kansas City, Missouri:** Hosts the **American Royal**, a large agricultural event with a focus on livestock.\n",
            "* **Fresno, California:** Hosts the **World Ag Expo**, one of the largest agricultural trade shows in the world.\n",
            "* **Dallas, Texas:** Hosts the **Texas Farm & Ranch Show**, a major event for Texas farmers and ranchers.\n",
            "\n",
            "**Europe:**\n",
            "\n",
            "* **Hannover, Germany:** Hosts the **Agritechnica**, the world's leading trade fair for agricultural machinery.\n",
            "* **Paris, France:** Hosts the **SIMA**, a major international agricultural machinery exhibition.\n",
            "* **Bologna, Italy:** Hosts the **EIMA International**, a major international exhibition for agricultural machinery and equipment.\n",
            "* **Amsterdam, Netherlands:** Hosts the **GreenTech Amsterdam**, a major international trade show for horticulture and technology.\n",
            "\n",
            "**Asia:**\n",
            "\n",
            "* **Beijing, China:** Hosts the **China International Agricultural Machinery Show**, a major event for agricultural machinery in China.\n",
            "* **Bangkok, Thailand:** Hosts the **Thailand International Agricultural Machinery & Equipment Exhibition**, a major event for agricultural machinery in Southeast Asia.\n",
            "* **New Delhi, India:** Hosts the **India International Agricultural Machinery Expo**, a major event for agricultural machinery in India.\n",
            "\n",
            "**Australia:**\n",
            "\n",
            "* **Melbourne, Australia:** Hosts the **AgQuip**, a major agricultural event in Australia.\n",
            "* **Sydney, Australia:** Hosts the **Royal Easter Show**, a large agricultural fair with a strong focus on farming.\n",
            "\n",
            "This is just a small sample of the many cities that host farm expos around the world. To find specific events in your area, you can search online for \"farm expos\" or \"agricultural shows\" in your region. \n",
            "\n"
          ]
        }
      ]
    },
    {
      "cell_type": "code",
      "source": [
        "def test_answering_only_from_context(prompt_template):\n",
        "  evaluation_prompt = \"\"\"\n",
        "    Does the provided_response answer the query\n",
        "    as well as possible without adding information\n",
        "    that does not appear in the context?\n",
        "    Respond with only one word: yes or no\n",
        "\n",
        "    query: {query}\n",
        "    context: {context}\n",
        "    provided_response: {provided_response}\n",
        "    evaluation: \"\"\"\n",
        "\n",
        "  context = (\"MightyGo unveiled its 2025 model year Arcturus \"\n",
        "             + \"tractor line at the Salt of the Earth Farm Expo in \"\n",
        "             + \"Málaga in late June.\")\n",
        "\n",
        "  query = \"What cities have hosted Farm Expos?\"\n",
        "\n",
        "  prompt = prompt_template.format(context=context, query=query)\n",
        "\n",
        "  response = gen_model.generate_content(prompt)\n",
        "  print(response.text)\n",
        "  ep = evaluation_prompt.format(query=query, context=context, provided_response=response.text)\n",
        "  evaluation = eval_model.generate_content(ep)\n",
        "\n",
        "  assert evaluation.text == \"yes\""
      ],
      "metadata": {
        "id": "bgYR5kd7_IwB",
        "executionInfo": {
          "status": "ok",
          "timestamp": 1729831414367,
          "user_tz": -330,
          "elapsed": 3,
          "user": {
            "displayName": "",
            "userId": ""
          }
        }
      },
      "id": "bgYR5kd7_IwB",
      "execution_count": 16,
      "outputs": []
    },
    {
      "cell_type": "code",
      "source": [
        "ipytest.run('-rP')"
      ],
      "metadata": {
        "id": "TKFDa3gk_KSz",
        "executionInfo": {
          "status": "ok",
          "timestamp": 1729831424648,
          "user_tz": -330,
          "elapsed": 2861,
          "user": {
            "displayName": "",
            "userId": ""
          }
        },
        "outputId": "84315a8a-5171-46b7-d41d-3db97e1d05ff",
        "colab": {
          "base_uri": "https://localhost:8080/"
        }
      },
      "id": "TKFDa3gk_KSz",
      "execution_count": 17,
      "outputs": [
        {
          "output_type": "stream",
          "name": "stdout",
          "text": [
            "\u001b[32m.\u001b[0m\u001b[32m.\u001b[0m\u001b[32m.\u001b[0m\u001b[31mF\u001b[0m\u001b[31m                                                                                         [100%]\u001b[0m\n",
            "============================================= FAILURES =============================================\n",
            "\u001b[31m\u001b[1m_________________________________ test_answering_only_from_context _________________________________\u001b[0m\n",
            "\n",
            "prompt_template = '\\nRespond to the user\\'s query.\\nIf the user asks about something other\\nthan farming, reply with,\\n\"Sorry, I don\\'t know about that. Ask me something about farming instead.\"\\n\\nContext: {context}\\n\\nUser Query: {query}\\nResponse:\\n'\n",
            "\n",
            "    \u001b[94mdef\u001b[39;49;00m \u001b[92mtest_answering_only_from_context\u001b[39;49;00m(prompt_template):\u001b[90m\u001b[39;49;00m\n",
            "      evaluation_prompt = \u001b[33m\"\"\"\u001b[39;49;00m\u001b[33m\u001b[39;49;00m\n",
            "    \u001b[33m    Does the provided_response answer the query\u001b[39;49;00m\u001b[33m\u001b[39;49;00m\n",
            "    \u001b[33m    as well as possible without adding information\u001b[39;49;00m\u001b[33m\u001b[39;49;00m\n",
            "    \u001b[33m    that does not appear in the context?\u001b[39;49;00m\u001b[33m\u001b[39;49;00m\n",
            "    \u001b[33m    Respond with only one word: yes or no\u001b[39;49;00m\u001b[33m\u001b[39;49;00m\n",
            "    \u001b[33m\u001b[39;49;00m\n",
            "    \u001b[33m    query: \u001b[39;49;00m\u001b[33m{query}\u001b[39;49;00m\u001b[33m\u001b[39;49;00m\n",
            "    \u001b[33m    context: \u001b[39;49;00m\u001b[33m{context}\u001b[39;49;00m\u001b[33m\u001b[39;49;00m\n",
            "    \u001b[33m    provided_response: \u001b[39;49;00m\u001b[33m{provided_response}\u001b[39;49;00m\u001b[33m\u001b[39;49;00m\n",
            "    \u001b[33m    evaluation: \u001b[39;49;00m\u001b[33m\"\"\"\u001b[39;49;00m\u001b[90m\u001b[39;49;00m\n",
            "    \u001b[90m\u001b[39;49;00m\n",
            "      context = (\u001b[33m\"\u001b[39;49;00m\u001b[33mMightyGo unveiled its 2025 model year Arcturus \u001b[39;49;00m\u001b[33m\"\u001b[39;49;00m\u001b[90m\u001b[39;49;00m\n",
            "                 + \u001b[33m\"\u001b[39;49;00m\u001b[33mtractor line at the Salt of the Earth Farm Expo in \u001b[39;49;00m\u001b[33m\"\u001b[39;49;00m\u001b[90m\u001b[39;49;00m\n",
            "                 + \u001b[33m\"\u001b[39;49;00m\u001b[33mMálaga in late June.\u001b[39;49;00m\u001b[33m\"\u001b[39;49;00m)\u001b[90m\u001b[39;49;00m\n",
            "    \u001b[90m\u001b[39;49;00m\n",
            "      query = \u001b[33m\"\u001b[39;49;00m\u001b[33mWhat cities have hosted Farm Expos?\u001b[39;49;00m\u001b[33m\"\u001b[39;49;00m\u001b[90m\u001b[39;49;00m\n",
            "    \u001b[90m\u001b[39;49;00m\n",
            "      prompt = prompt_template.format(context=context, query=query)\u001b[90m\u001b[39;49;00m\n",
            "    \u001b[90m\u001b[39;49;00m\n",
            "      response = gen_model.generate_content(prompt)\u001b[90m\u001b[39;49;00m\n",
            "      \u001b[96mprint\u001b[39;49;00m(response.text)\u001b[90m\u001b[39;49;00m\n",
            "      ep = evaluation_prompt.format(query=query, context=context, provided_response=response.text)\u001b[90m\u001b[39;49;00m\n",
            "      evaluation = eval_model.generate_content(ep)\u001b[90m\u001b[39;49;00m\n",
            "    \u001b[90m\u001b[39;49;00m\n",
            ">     \u001b[94massert\u001b[39;49;00m evaluation.text == \u001b[33m\"\u001b[39;49;00m\u001b[33myes\u001b[39;49;00m\u001b[33m\"\u001b[39;49;00m\u001b[90m\u001b[39;49;00m\n",
            "\u001b[1m\u001b[31mE     AssertionError: assert 'no' == 'yes'\u001b[0m\n",
            "\u001b[1m\u001b[31mE       - yes\u001b[0m\n",
            "\u001b[1m\u001b[31mE       + no\u001b[0m\n",
            "\n",
            "\u001b[1m\u001b[31m<ipython-input-16-c0f7ef50d080>\u001b[0m:26: AssertionError\n",
            "--------------------------------------- Captured stdout call ---------------------------------------\n",
            "Sorry, I don't know about that. Ask me something about farming instead. \n",
            "\n",
            "============================================== PASSES ==============================================\n",
            "\u001b[32m\u001b[1m_______________________________________ test_basic_response ________________________________________\u001b[0m\n",
            "--------------------------------------- Captured stdout call ---------------------------------------\n",
            "The new tractor model is called the **Arcturus**. \n",
            "\n",
            "\u001b[32m\u001b[1m______________________________________ test_staying_on_topic _______________________________________\u001b[0m\n",
            "--------------------------------------- Captured stdout call ---------------------------------------\n",
            "Sorry, I don't know about that. Ask me something about farming instead. \n",
            "\n",
            "\u001b[31m\u001b[31m\u001b[1m1 failed\u001b[0m, \u001b[32m3 passed\u001b[0m\u001b[31m in 2.53s\u001b[0m\u001b[0m\n"
          ]
        },
        {
          "output_type": "execute_result",
          "data": {
            "text/plain": [
              "<ExitCode.TESTS_FAILED: 1>"
            ]
          },
          "metadata": {},
          "execution_count": 17
        }
      ]
    },
    {
      "cell_type": "code",
      "source": [
        "%%writefile prompt_template.txt\n",
        "\n",
        "Respond to the user's query.\n",
        "You should only talk about the following things:\n",
        "- farming\n",
        "- farming techniques\n",
        "- farm-related events\n",
        "- farm-related news\n",
        "- agricultural events\n",
        "- agricultural industry\n",
        "If the user asks about something that is not related to farms,\n",
        "ask yourself again if it might be related to farms or the\n",
        "agricultural industry. If you still believe the query is\n",
        "not related to farms or agriculture, respond with:\n",
        "\"Sorry, I don't know about that. Ask me something about farming instead.\"\n",
        "When answering, use only information included in the context.\n",
        "\n",
        "Context: {context}\n",
        "\n",
        "User Query: {query}\n",
        "Response:"
      ],
      "metadata": {
        "id": "ewpC1EqS_MAV",
        "executionInfo": {
          "status": "ok",
          "timestamp": 1729831432148,
          "user_tz": -330,
          "elapsed": 3,
          "user": {
            "displayName": "",
            "userId": ""
          }
        },
        "outputId": "98bab88d-43be-4582-87a5-6779494135e3",
        "colab": {
          "base_uri": "https://localhost:8080/"
        }
      },
      "id": "ewpC1EqS_MAV",
      "execution_count": 18,
      "outputs": [
        {
          "output_type": "stream",
          "name": "stdout",
          "text": [
            "Overwriting prompt_template.txt\n"
          ]
        }
      ]
    },
    {
      "cell_type": "code",
      "source": [
        "ipytest.run('-rP')"
      ],
      "metadata": {
        "id": "-ncYIItg_OkJ",
        "executionInfo": {
          "status": "ok",
          "timestamp": 1729831439487,
          "user_tz": -330,
          "elapsed": 2105,
          "user": {
            "displayName": "",
            "userId": ""
          }
        },
        "outputId": "9197a925-be73-4eeb-e0d4-b2bd6232d1a6",
        "colab": {
          "base_uri": "https://localhost:8080/"
        }
      },
      "id": "-ncYIItg_OkJ",
      "execution_count": 19,
      "outputs": [
        {
          "output_type": "stream",
          "name": "stdout",
          "text": [
            "\u001b[32m.\u001b[0m\u001b[32m.\u001b[0m\u001b[32m.\u001b[0m\u001b[32m.\u001b[0m\u001b[32m                                                                                         [100%]\u001b[0m\n",
            "============================================== PASSES ==============================================\n",
            "\u001b[32m\u001b[1m_______________________________________ test_basic_response ________________________________________\u001b[0m\n",
            "--------------------------------------- Captured stdout call ---------------------------------------\n",
            "The new tractor model is called Arcturus. \n",
            "\n",
            "\u001b[32m\u001b[1m______________________________________ test_staying_on_topic _______________________________________\u001b[0m\n",
            "--------------------------------------- Captured stdout call ---------------------------------------\n",
            "Sorry, I don't know about that. Ask me something about farming instead. \n",
            "\n",
            "\u001b[32m\u001b[1m_________________________________ test_answering_only_from_context _________________________________\u001b[0m\n",
            "--------------------------------------- Captured stdout call ---------------------------------------\n",
            "Málaga has hosted the Salt of the Earth Farm Expo. \n",
            "\n",
            "\u001b[32m\u001b[32m\u001b[1m4 passed\u001b[0m\u001b[32m in 2.23s\u001b[0m\u001b[0m\n"
          ]
        },
        {
          "output_type": "execute_result",
          "data": {
            "text/plain": [
              "<ExitCode.OK: 0>"
            ]
          },
          "metadata": {},
          "execution_count": 19
        }
      ]
    },
    {
      "cell_type": "code",
      "source": [],
      "metadata": {
        "id": "2iy-pPhE_P2l"
      },
      "id": "2iy-pPhE_P2l",
      "execution_count": null,
      "outputs": []
    }
  ],
  "metadata": {
    "kernelspec": {
      "display_name": "Python 3",
      "language": "python",
      "name": "python3"
    },
    "language_info": {
      "codemirror_mode": {
        "name": "ipython",
        "version": 3
      },
      "file_extension": ".py",
      "mimetype": "text/x-python",
      "name": "python",
      "nbconvert_exporter": "python",
      "pygments_lexer": "ipython3",
      "version": "3.10.10"
    },
    "colab": {
      "provenance": [],
      "name": "student-04-d7f192777862 (Oct 25, 2024, 10:08:31 AM)"
    }
  },
  "nbformat": 4,
  "nbformat_minor": 5
}